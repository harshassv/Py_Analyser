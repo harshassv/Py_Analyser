{
 "cells": [
  {
   "cell_type": "code",
   "execution_count": null,
   "metadata": {},
   "outputs": [],
   "source": [
    "# TODO\n",
    "# Handle when top=-1\n",
    "# if def is in '''''' or \"\"\"\"\"\" or '' or \"\" or comments it should not be considered\n",
    "# when you use e_indent items in string then your program will go wrong so modify that\n",
    "# i.e., if try in present in string then it takes it as indendation"
   ]
  },
  {
   "cell_type": "code",
   "execution_count": 5,
   "metadata": {},
   "outputs": [
    {
     "name": "stdout",
     "output_type": "stream",
     "text": [
      "4\n",
      "5\n",
      "6\n",
      "4\n"
     ]
    }
   ],
   "source": [
    "t,s,n=int(input()),int(input()),int(input())\n",
    "print(t)"
   ]
  },
  {
   "cell_type": "code",
   "execution_count": null,
   "metadata": {},
   "outputs": [],
   "source": [
    "t,n,s=int(input()),int(input()),int(input())\n",
    "l=str(s)\n",
    "count=0\n",
    "while(False):\n",
    "    count+=1\n",
    "    m=l.split('01')\n",
    "    l=''\n",
    "    for x in m: \n",
    "        l += x \n",
    "print(count)"
   ]
  },
  {
   "cell_type": "code",
   "execution_count": 31,
   "metadata": {},
   "outputs": [
    {
     "ename": "IndentationError",
     "evalue": "expected an indented block (<ipython-input-31-4d13e7f76985>, line 4)",
     "output_type": "error",
     "traceback": [
      "\u001b[1;36m  File \u001b[1;32m\"<ipython-input-31-4d13e7f76985>\"\u001b[1;36m, line \u001b[1;32m4\u001b[0m\n\u001b[1;33m    def test1(x,y\u001b[0m\n\u001b[1;37m    ^\u001b[0m\n\u001b[1;31mIndentationError\u001b[0m\u001b[1;31m:\u001b[0m expected an indented block\n"
     ]
    }
   ],
   "source": [
    "# TODO Ram\n",
    "# Python functions can be written as\n",
    "def test1(x,y,h,k):\n",
    "    pass\n",
    "# Can also be written as\n",
    "def test1(x,y\n",
    "         ,h,\n",
    "          k):\n",
    "    pass"
   ]
  },
  {
   "cell_type": "code",
   "execution_count": 50,
   "metadata": {},
   "outputs": [
    {
     "name": "stdout",
     "output_type": "stream",
     "text": [
      "['test1', 'test2', 'test3', 'test4', 'test5']\n",
      "[4, 8, 12]\n"
     ]
    }
   ],
   "source": [
    "functions('''\n",
    "def test1  ():\n",
    "    t1_x=100\n",
    "    t1_y=200\n",
    "    def test2():\n",
    "        t2_x=100\n",
    "        t2_y=200\n",
    "        def test3():\n",
    "            t3_x=909\n",
    "            t3_y=9389\n",
    "        t2_z=238\n",
    "        t2_j=930\n",
    "    def test4():\n",
    "        t4_x=909\n",
    "        def test5():\n",
    "            t5_i=08\n",
    "    t1_z=98\n",
    "    t1_j=898''')"
   ]
  },
  {
   "cell_type": "code",
   "execution_count": 48,
   "metadata": {},
   "outputs": [],
   "source": [
    "def functions(lines):\n",
    "    l_string=lines.split('\\n')\n",
    "    f_name=[]\n",
    "    variables=[]\n",
    "    indendation=[]\n",
    "    for i in l_string:\n",
    "        if 'def' in i:\n",
    "            f_name.append(i[i.index('def')+4:i.index('(')].strip())\n",
    "            continue\n",
    "        for j in i:\n",
    "            if j!=' ':\n",
    "                temp=i.index(j)\n",
    "                if temp not in indendation:\n",
    "                    indendation.append(temp)\n",
    "                break\n",
    "    print(f_name,indendation,sep='\\n')"
   ]
  },
  {
   "cell_type": "code",
   "execution_count": 1,
   "metadata": {},
   "outputs": [
    {
     "ename": "IndentationError",
     "evalue": "expected an indented block (<ipython-input-1-5abaf3792d51>, line 11)",
     "output_type": "error",
     "traceback": [
      "\u001b[1;36m  File \u001b[1;32m\"<ipython-input-1-5abaf3792d51>\"\u001b[1;36m, line \u001b[1;32m11\u001b[0m\n\u001b[1;33m    t2_z=89\u001b[0m\n\u001b[1;37m    ^\u001b[0m\n\u001b[1;31mIndentationError\u001b[0m\u001b[1;31m:\u001b[0m expected an indented block\n"
     ]
    }
   ],
   "source": [
    "def test1():\n",
    "    t1_x=100\n",
    "    t1_y=89\n",
    "    def test2():\n",
    "        if True:\n",
    "            t2_x=78\n",
    "            t2_y=90\n",
    "        t2_rtam=803\n",
    "        while True:\n",
    "            if True:\n",
    "                t2f_x=90\n",
    "            t2_z=89\n",
    "        t2_harsh=9349\n",
    "    t1_z=92183\n",
    "    def test3():\n",
    "        t3_x=90\n",
    "        t3_y=99"
   ]
  },
  {
   "cell_type": "code",
   "execution_count": 2,
   "metadata": {},
   "outputs": [],
   "source": [
    "def initialise_functions(data):\n",
    "    s_list=data.split('\\n')\n",
    "#     top=-1\n",
    "    indent_flag=False\n",
    "    indent_dict={}\n",
    "#     f_dict={}\n",
    "#     temp=None\n",
    "#     lci_temp=None\n",
    "#     indent_c=['elif','else','except','try','finally','for','if','try','while','with']\n",
    "    for i in s_list:\n",
    "        if 'def' in i:\n",
    "            f_temp=i[i.index('def')+4:i.index('(')].strip()   #f_temp -> Stores current function value\n",
    "            indent_flag=True\n",
    "            continue\n",
    "        if indent_flag:\n",
    "            for j in i:\n",
    "                if j!=' ':\n",
    "                    fi_temp=i.index(j)\n",
    "                    indent_dict[f_temp]=fi_temp      #i_temp -> stores current indentation of function\n",
    "                    break\n",
    "            indent_flag=False\n",
    "    return indent_dict"
   ]
  },
  {
   "cell_type": "code",
   "execution_count": 81,
   "metadata": {},
   "outputs": [
    {
     "data": {
      "text/plain": [
       "{'test1': 4, 'test2': 8, 'test3': 20}"
      ]
     },
     "execution_count": 81,
     "metadata": {},
     "output_type": "execute_result"
    }
   ],
   "source": [
    "initialise_functions('''\n",
    "def test1():\n",
    "    t1_x=100\n",
    "    t1_y=150\n",
    "    def test2():\n",
    "        t2_x=150\n",
    "        t2_y=171\n",
    "        if True:\n",
    "            t2_z=151\n",
    "            t2_b=171\n",
    "            if True:\n",
    "                t2_c=101\n",
    "                def test3():\n",
    "                    t3_x=150\n",
    "                    t3_y=171\n",
    "                t2_d=78\n",
    "        t2_f=191\n",
    "    t1_z=89\n",
    "''')"
   ]
  },
  {
   "cell_type": "code",
   "execution_count": 123,
   "metadata": {},
   "outputs": [],
   "source": [
    "\n",
    "# print(indent_dict)\n",
    "indent_dict=initialise_functions('''\n",
    "def test1():\n",
    "    t1_x=100\n",
    "    t1_y=150\n",
    "    def test2():\n",
    "        t2_x=150\n",
    "        t2_y=171\n",
    "        if True:\n",
    "            t2_z=151\n",
    "            t2_b=171\n",
    "            if True:\n",
    "                t2_c=101\n",
    "                while True:\n",
    "                    t2_ok=90\n",
    "                    def test3():\n",
    "                        t3_x=150\n",
    "                        t3_y=171\n",
    "                t2_d=78\n",
    "        t2_f=191\n",
    "    t1_z=89\n",
    "''')\n",
    "def updated_functions(data):      \n",
    "    s_list=data.split('\\n')\n",
    "    top=-1\n",
    "    e_indent=['elif','else','except','try','finally','for','if','try','while','with']\n",
    "    ei_flag=False    #This flag will tells whether extra indendation is caused by any of the element present in e_indent\n",
    "    ei=0        # ei -> Extra indendation which is caused by elements present in e_indent\n",
    "    f_dict={}\n",
    "    f_stack=[]\n",
    "    for i in indent_dict.keys():\n",
    "        f_dict[i]=''\n",
    "    cli=None     #cli_temp -> current line indentation\n",
    "    for i,k in zip(s_list,range(0,len(s_list))):\n",
    "        if i!='':\n",
    "            if 'def' in i:\n",
    "                f_stack.append([i[i.index('def')+4:i.index('(')].strip(),0])\n",
    "                top+=1\n",
    "                continue\n",
    "            for j2 in e_indent:\n",
    "                if j2 in i:\n",
    "                    for j3 in s_list[k+1]:\n",
    "                        if j3!=' ':\n",
    "                            f_stack[top][1]=f_stack[top][1]+(s_list[k+1].index(j3)-indent_dict[f_stack[top][0]])\n",
    "                            indent_dict[f_stack[top][0]]=s_list[k+1].index(j3)\n",
    "                            ei_flag=True\n",
    "                            break\n",
    "            if ei_flag:\n",
    "                ei_flag=False\n",
    "                continue\n",
    "            for j in i:\n",
    "                if j!=' ':\n",
    "                    cli=i.index(j)\n",
    "                    break\n",
    "            if cli==indent_dict[f_stack[top][0]]:\n",
    "                f_dict[f_stack[top][0]]=f_dict[f_stack[top][0]]+f'\\n{i}'\n",
    "            else:\n",
    "                if cli>=indent_dict[f_stack[top][0]]-f_stack[top][1] and cli<indent_dict[f_stack[top][0]]:\n",
    "                    diff_indent=indent_dict[f_stack[top][0]]-cli\n",
    "                    f_stack[top][1]=f_stack[top][1]-diff_indent\n",
    "                    indent_dict[f_stack[top][0]]=indent_dict[f_stack[top][0]]-diff_indent\n",
    "                    f_dict[f_stack[top][0]]=f_dict[f_stack[top][0]]+f'\\n{i}'\n",
    "                else:\n",
    "                    while True:\n",
    "                        f_stack.pop()\n",
    "                        top-=1\n",
    "                        if top==-1:\n",
    "                            break\n",
    "                        if cli>=indent_dict[f_stack[top][0]]-f_stack[top][1] and cli<=indent_dict[f_stack[top][0]]:\n",
    "                            diff_indent=indent_dict[f_stack[top][0]]-cli\n",
    "                            f_stack[top][1]=f_stack[top][1]-diff_indent\n",
    "                            indent_dict[f_stack[top][0]]=indent_dict[f_stack[top][0]]-diff_indent\n",
    "                            f_dict[f_stack[top][0]]=f_dict[f_stack[top][0]]+f'\\n{i}'\n",
    "                            break\n",
    "                        \n",
    "#             else:\n",
    "#                 print(f_stack)\n",
    "#                 f_stack.pop()\n",
    "#                 top-=1\n",
    "#                 f_dict[f_stack[top][0]]=f_dict[f_stack[top][0]]+f'\\n{i}'\n",
    "#             if top==-1:\n",
    "#                 break\n",
    "    return f_dict   #f_dict to be return"
   ]
  },
  {
   "cell_type": "code",
   "execution_count": 61,
   "metadata": {},
   "outputs": [
    {
     "data": {
      "text/plain": [
       "{'harsha': 4}"
      ]
     },
     "execution_count": 61,
     "metadata": {},
     "output_type": "execute_result"
    }
   ],
   "source": [
    "initialise_functions('''\n",
    "def harsha():\n",
    "    x=100\n",
    "''')"
   ]
  },
  {
   "cell_type": "code",
   "execution_count": 124,
   "metadata": {},
   "outputs": [
    {
     "data": {
      "text/plain": [
       "{'test1': '\\n    t1_x=100\\n    t1_y=150\\n    t1_z=89',\n",
       " 'test2': '\\n        t2_x=150\\n        t2_y=171\\n            t2_z=151\\n            t2_b=171\\n                t2_c=101\\n                    t2_ok=90\\n                t2_d=78\\n        t2_f=191',\n",
       " 'test3': '\\n                        t3_x=150\\n                        t3_y=171'}"
      ]
     },
     "execution_count": 124,
     "metadata": {},
     "output_type": "execute_result"
    }
   ],
   "source": [
    "updated_functions('''\n",
    "def test1():\n",
    "    t1_x=100\n",
    "    t1_y=150\n",
    "    def test2():\n",
    "        t2_x=150\n",
    "        t2_y=171\n",
    "        if True:\n",
    "            t2_z=151\n",
    "            t2_b=171\n",
    "            if True:\n",
    "                t2_c=101\n",
    "                while True:\n",
    "                    t2_ok=90\n",
    "                    def test3():\n",
    "                        t3_x=150\n",
    "                        t3_y=171\n",
    "                t2_d=78\n",
    "        t2_f=191\n",
    "    t1_z=89\n",
    "''')"
   ]
  },
  {
   "cell_type": "code",
   "execution_count": 117,
   "metadata": {},
   "outputs": [
    {
     "data": {
      "text/plain": [
       "{'test1': '\\n    t1_x=100\\n    t1_y=150\\n    t1_z=89',\n",
       " 'test2': '\\n        t2_x=150\\n        t2_y=171\\n            t2_z=151\\n            t2_b=171\\n                t2_c=101\\n        t2_f=191',\n",
       " 'test3': '\\n                    t3_x=150\\n                    t3_y=171'}"
      ]
     },
     "execution_count": 117,
     "metadata": {},
     "output_type": "execute_result"
    }
   ],
   "source": [
    "updated_functions('''\n",
    "def test1():\n",
    "    t1_x=100\n",
    "    t1_y=150\n",
    "    def test2():\n",
    "        t2_x=150\n",
    "        t2_y=171\n",
    "        if True:\n",
    "            t2_z=151\n",
    "            t2_b=171\n",
    "            if True:\n",
    "                t2_c=101\n",
    "                def test3():\n",
    "                    t3_x=150\n",
    "                    t3_y=171\n",
    "        t2_f=191\n",
    "    t1_z=89\n",
    "''')"
   ]
  },
  {
   "cell_type": "code",
   "execution_count": 5,
   "metadata": {},
   "outputs": [
    {
     "name": "stdout",
     "output_type": "stream",
     "text": [
      "{'test': [1, 2]}\n"
     ]
    }
   ],
   "source": [
    "x={}\n",
    "y='test'\n",
    "z=[1]\n",
    "x[y]=z\n",
    "x[y].append(2)\n",
    "print(x)"
   ]
  },
  {
   "cell_type": "code",
   "execution_count": null,
   "metadata": {},
   "outputs": [],
   "source": [
    "#  elif,else,except,try,finally,for,if,try,while,with"
   ]
  },
  {
   "cell_type": "code",
   "execution_count": 95,
   "metadata": {},
   "outputs": [
    {
     "data": {
      "text/plain": [
       "{2: [1, 2]}"
      ]
     },
     "execution_count": 95,
     "metadata": {},
     "output_type": "execute_result"
    }
   ],
   "source": [
    "x={}\n",
    "x[2]=[1]\n",
    "x[2].extend([2])\n",
    "x"
   ]
  },
  {
   "cell_type": "code",
   "execution_count": 15,
   "metadata": {},
   "outputs": [],
   "source": [
    "# 1st Version(Very very basic)\n",
    "def functions(data):      \n",
    "    s_list=data.split('\\n')\n",
    "    top=-1\n",
    "    e_indent=['elif','else','except','try','finally','for','if','try','while','with']\n",
    "    ei=0        # ei -> Extra indendation which is caused by elements present in e_indent\n",
    "    f_dict={}\n",
    "    for i in indent_dict.keys():\n",
    "        f_dict[i]=''\n",
    "    f_stack=[]\n",
    "    cli=None     #cli_temp -> current line indentation\n",
    "    for i,k in zip(s_list,range(0,len(s_list))):\n",
    "        if i!='':\n",
    "            if 'def' in i:\n",
    "                f_stack.append(i[i.index('def')+4:i.index('(')].strip())\n",
    "                top+=1\n",
    "                continue\n",
    "            for j in i:\n",
    "                if j!=' ':\n",
    "                    cli=i.index(j)\n",
    "                    break\n",
    "            if cli==indent_dict[f_stack[top]a]:\n",
    "                f_dict[f_stack[top]]=f_dict[f_stack[top]]+f'\\n{i}'\n",
    "            else:\n",
    "                f_stack.pop()\n",
    "                top-=1\n",
    "                f_dict[f_stack[top]]=f_dict[f_stack[top]]+f'\\n{i}'\n",
    "            if top==-1:\n",
    "                break\n",
    "    return f_dict"
   ]
  },
  {
   "cell_type": "code",
   "execution_count": 10,
   "metadata": {},
   "outputs": [
    {
     "data": {
      "text/plain": [
       "[['harsha', 2]]"
      ]
     },
     "execution_count": 10,
     "metadata": {},
     "output_type": "execute_result"
    }
   ],
   "source": [
    "x=[]\n",
    "x.append(['harsha'])\n",
    "top=0\n",
    "x[top].extend([2])\n",
    "x"
   ]
  },
  {
   "cell_type": "code",
   "execution_count": 8,
   "metadata": {},
   "outputs": [],
   "source": [
    "\n",
    "# print(indent_dict)\n",
    "indent_dict=initialise_functions('''\n",
    "def print_msg(msg):\n",
    "    # This is the outer enclosing function\n",
    "    def printer():\n",
    "        # This is the nested function\n",
    "        print(msg)\n",
    "    printer()\n",
    "''')\n",
    "def updated_functions(data):      \n",
    "    s_list=data.split('\\n')\n",
    "    top=-1\n",
    "    e_indent=['elif','else','except','try','finally','for','if','try','while','with']\n",
    "    ei_flag=False    #This flag will tells whether extra indendation is caused by any of the element present in e_indent\n",
    "    ei=0        # ei -> Extra indendation which is caused by elements present in e_indent\n",
    "    f_dict={}\n",
    "    f_stack=[]\n",
    "    for i in indent_dict.keys():\n",
    "        f_dict[i]=''\n",
    "    cli=None     #cli_temp -> current line indentation\n",
    "    for i,k in zip(s_list,range(0,len(s_list))):\n",
    "        if i!='':\n",
    "            if 'def' in i:\n",
    "                f_stack.append([i[i.index('def')+4:i.index('(')].strip(),0])\n",
    "                top+=1\n",
    "                continue\n",
    "            for j2 in e_indent:\n",
    "                if j2 in i:\n",
    "                    for j3 in s_list[k+1]:\n",
    "                        if j3!=' ':\n",
    "                            f_stack[top][1]=f_stack[top][1]+(s_list[k+1].index(j3)-indent_dict[f_stack[top][0]])\n",
    "                            indent_dict[f_stack[top][0]]=s_list[k+1].index(j3)\n",
    "                            ei_flag=True\n",
    "                            break\n",
    "            if ei_flag:\n",
    "                ei_flag=False\n",
    "                continue\n",
    "            for j in i:\n",
    "                if j!=' ':\n",
    "                    cli=i.index(j)\n",
    "                    break\n",
    "            if cli==indent_dict[f_stack[top][0]]:\n",
    "                f_dict[f_stack[top][0]]=f_dict[f_stack[top][0]]+f'\\n{i}'\n",
    "            else:\n",
    "                if cli>=indent_dict[f_stack[top][0]]-f_stack[top][1] and cli<indent_dict[f_stack[top][0]]:\n",
    "                    diff_indent=indent_dict[f_stack[top][0]]-cli\n",
    "                    f_stack[top][1]=f_stack[top][1]-diff_indent\n",
    "                    indent_dict[f_stack[top][0]]=indent_dict[f_stack[top][0]]-diff_indent\n",
    "                    f_dict[f_stack[top][0]]=f_dict[f_stack[top][0]]+f'\\n{i}'\n",
    "                else:\n",
    "                    while True:\n",
    "                        f_stack.pop()\n",
    "                        top-=1\n",
    "                        if top==-1:\n",
    "                            break\n",
    "                        if cli>=indent_dict[f_stack[top][0]]-f_stack[top][1] and cli<=indent_dict[f_stack[top][0]]:\n",
    "                            diff_indent=indent_dict[f_stack[top][0]]-cli\n",
    "                            f_stack[top][1]=f_stack[top][1]-diff_indent\n",
    "                            indent_dict[f_stack[top][0]]=indent_dict[f_stack[top][0]]-diff_indent\n",
    "                            f_dict[f_stack[top][0]]=f_dict[f_stack[top][0]]+f'\\n{i}'\n",
    "                            break\n",
    "                        \n",
    "#             else:\n",
    "#                 print(f_stack)\n",
    "#                 f_stack.pop()\n",
    "#                 top-=1\n",
    "#                 f_dict[f_stack[top][0]]=f_dict[f_stack[top][0]]+f'\\n{i}'\n",
    "#             if top==-1:\n",
    "#                 break\n",
    "    return f_dict   #f_dict to be return"
   ]
  },
  {
   "cell_type": "code",
   "execution_count": 11,
   "metadata": {},
   "outputs": [
    {
     "data": {
      "text/plain": [
       "{'print_msg': '\\n    # This is the outer enclosing function\\n    printer()',\n",
       " 'printer': '\\n        # This is the nested function\\n        print(msg)'}"
      ]
     },
     "execution_count": 11,
     "metadata": {},
     "output_type": "execute_result"
    }
   ],
   "source": [
    "updated_functions('''\n",
    "def print_msg(msg):\n",
    "    # This is the outer enclosing function\n",
    "    def printer():\n",
    "        # This is the nested function\n",
    "        print(msg)\n",
    "    printer()\n",
    "''')"
   ]
  },
  {
   "cell_type": "code",
   "execution_count": 7,
   "metadata": {},
   "outputs": [
    {
     "data": {
      "text/plain": [
       "{'print_msg': 4, 'printer': 8}"
      ]
     },
     "execution_count": 7,
     "metadata": {},
     "output_type": "execute_result"
    }
   ],
   "source": [
    "initialise_functions('''\n",
    "def print_msg(msg):\n",
    "    # This is the outer enclosing function\n",
    "    def printer():\n",
    "        # This is the nested function\n",
    "        print(msg)\n",
    "    printer()\n",
    "''')"
   ]
  }
 ],
 "metadata": {
  "kernelspec": {
   "display_name": "Python 3",
   "language": "python",
   "name": "python3"
  },
  "language_info": {
   "codemirror_mode": {
    "name": "ipython",
    "version": 3
   },
   "file_extension": ".py",
   "mimetype": "text/x-python",
   "name": "python",
   "nbconvert_exporter": "python",
   "pygments_lexer": "ipython3",
   "version": "3.8.3"
  }
 },
 "nbformat": 4,
 "nbformat_minor": 4
}
